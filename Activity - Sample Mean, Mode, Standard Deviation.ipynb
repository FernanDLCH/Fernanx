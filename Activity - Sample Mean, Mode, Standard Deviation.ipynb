{
 "cells": [
  {
   "cell_type": "markdown",
   "metadata": {},
   "source": [
    "# ACTIVITY No.1"
   ]
  },
  {
   "cell_type": "markdown",
   "metadata": {},
   "source": [
    "###### Names:"
   ]
  },
  {
   "cell_type": "markdown",
   "metadata": {},
   "source": [
    "- Fernando De La Cruz Hernandez\n",
    "- Carrisales Nicolas Oliver David"
   ]
  },
  {
   "cell_type": "markdown",
   "metadata": {},
   "source": [
    "##### Instructions:"
   ]
  },
  {
   "cell_type": "markdown",
   "metadata": {},
   "source": [
    "Develop a program that calculates sample mean, mode, and standard deviation based in a set of data introduced by the user.\n",
    "The program have to ask what operation the user wants to calculate."
   ]
  },
  {
   "cell_type": "markdown",
   "metadata": {},
   "source": [
    "##### Activity to Develop:"
   ]
  },
  {
   "cell_type": "code",
   "execution_count": 5,
   "metadata": {},
   "outputs": [
    {
     "name": "stdout",
     "output_type": "stream",
     "text": [
      " ********** OPTIONS **********\n",
      "\t1.- Sample Mean\n",
      "\t2.- Mode\n",
      "\t3.- Standard Deviation\n",
      "\n",
      "\n",
      "\t  ***** Choose an option: 1\n",
      " ---------- SAMPLE MEAN ----------\n",
      " How many samples will you add?4\n",
      "Valor 1= 2.9\n",
      "This is the Sample Mean 0.725\n",
      "Valor 2= 2.9\n",
      "This is the Sample Mean 1.45\n",
      "Valor 3= 3.1\n",
      "This is the Sample Mean 2.225\n",
      "Valor 4= 3.1\n",
      "This is the Sample Mean 3.0\n",
      "Choose one of the valid options.\n"
     ]
    }
   ],
   "source": [
    "\n",
    "#######SWITCH CASE:\\\n",
    "opcion = int(input(\" ********** OPTIONS **********\\n\\t\" +\n",
    "                   \"1.- Sample Mean\\n\\t\"+\n",
    "                   \"2.- Mode\\n\\t\" + \n",
    "                   \"3.- Standard Deviation\\n\\n\\n\\t\" +\n",
    "                  \"  ***** Choose an option: \"))\n",
    "\n",
    "\n",
    "#CASE 1\n",
    "if opcion==1:\n",
    "    print(\" ---------- SAMPLE MEAN ----------\")\n",
    "    SumaSamples=0\n",
    "\n",
    "Values = int(input(\" How many samples will you add?\"))\n",
    "for i in range (Values):\n",
    "    samples = float(input(f\"Valor {i+1}= \"))\n",
    "    SumaSamples += samples\n",
    "    SampleMean = SumaSamples/Values\n",
    "    print(\"This is the Sample Mean\", SampleMean)\n",
    "    \n",
    "    \n",
    "else:\n",
    "    print(\"Choose one of the valid options.\")\n"
   ]
  },
  {
   "cell_type": "code",
   "execution_count": null,
   "metadata": {},
   "outputs": [],
   "source": []
  }
 ],
 "metadata": {
  "kernelspec": {
   "display_name": "Python 3",
   "language": "python",
   "name": "python3"
  },
  "language_info": {
   "codemirror_mode": {
    "name": "ipython",
    "version": 3
   },
   "file_extension": ".py",
   "mimetype": "text/x-python",
   "name": "python",
   "nbconvert_exporter": "python",
   "pygments_lexer": "ipython3",
   "version": "3.7.3"
  }
 },
 "nbformat": 4,
 "nbformat_minor": 2
}
