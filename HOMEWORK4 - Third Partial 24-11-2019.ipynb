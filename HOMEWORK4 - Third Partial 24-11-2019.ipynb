{
 "cells": [
  {
   "cell_type": "markdown",
   "metadata": {},
   "source": [
    "   # Homework #4 (Exercises 13-21)"
   ]
  },
  {
   "cell_type": "markdown",
   "metadata": {},
   "source": [
    "###### Names:"
   ]
  },
  {
   "cell_type": "markdown",
   "metadata": {},
   "source": [
    "- De La Cruz Hernandez Fernando"
   ]
  },
  {
   "cell_type": "markdown",
   "metadata": {},
   "source": [
    "- Carrizales Nicolas Oliver David"
   ]
  },
  {
   "cell_type": "markdown",
   "metadata": {},
   "source": [
    "# Exercise 13: "
   ]
  },
  {
   "cell_type": "markdown",
   "metadata": {},
   "source": [
    "### Parameters, Unpacking, Variables "
   ]
  },
  {
   "cell_type": "markdown",
   "metadata": {},
   "source": [
    " In this exercise we will cover one more input method you can use to pass variables to a script(script begin another name for your .py.files). You know how you type python 3.6 ex 13.py to run the ex13. py file?. Well the ex13.py part of the command is called an \"argument\". \"What we´ll do now is write a script that also accepts arguments. Type this program and I´ll explain it in detail:"
   ]
  },
  {
   "cell_type": "code",
   "execution_count": null,
   "metadata": {},
   "outputs": [],
   "source": [
    "from sys import argv\n",
    "#read the WYSS section for how to run this \n",
    "script, first, second, third = argv\n",
    " \n",
    "print(\"the script is called:\", script)\n",
    "print(\"Your first variable is:\", first)\n",
    "print(\"Your seciond variable is:\", second)\n",
    "print(\"Your third varibale is:\", third)"
   ]
  },
  {
   "cell_type": "markdown",
   "metadata": {},
   "source": [
    "<img src=https://i.ibb.co/R7ZffrN/EX13.png>"
   ]
  },
  {
   "cell_type": "markdown",
   "metadata": {},
   "source": [
    "# Exercise 14: "
   ]
  },
  {
   "cell_type": "markdown",
   "metadata": {},
   "source": [
    "### Prompting and Passing"
   ]
  },
  {
   "cell_type": "code",
   "execution_count": null,
   "metadata": {},
   "outputs": [],
   "source": [
    "from sys import argv \n",
    "\n",
    "script, user_name = argv\n",
    "prompt =' > '\n",
    "\n",
    "print(f\"Hi {user_name}, I´m the {script} script. \")\n",
    "print(\"I´d like to ask you a few questions.\")\n",
    "print(f\"Do you like me {user_name}?\")\n",
    "likes = input(prompt)\n",
    "\n",
    "print(f\"Where do you live {user_name}?\")\n",
    "lives = input(prompt)\n",
    "\n",
    "print(\"What kind of computer do you have?\")\n",
    "computer = input(prompt)\n",
    "\n",
    "print(f\"\"\"\n",
    "Alright, so you said{likes} about liking me.\n",
    "You libe in{lives}. Not sure where that is.\n",
    "And you have a {computer} computer. Nice.\n",
    "\"\"\")"
   ]
  },
  {
   "cell_type": "markdown",
   "metadata": {},
   "source": [
    "<img src=https://i.ibb.co/zRkVYSD/EX14.png>"
   ]
  },
  {
   "cell_type": "markdown",
   "metadata": {},
   "source": [
    "# Exercise 15: "
   ]
  },
  {
   "cell_type": "markdown",
   "metadata": {},
   "source": [
    "### Reading Files"
   ]
  },
  {
   "cell_type": "code",
   "execution_count": null,
   "metadata": {},
   "outputs": [],
   "source": [
    "from sys import argv\n",
    "\n",
    "script, filename = argv\n",
    "\n",
    "txt = open(filename)\n",
    "\n",
    "print(f\"Here's your file {filename}:\")\n",
    "\n",
    "print(txt.read())\n",
    "\n",
    "print(\"Type the filename again:\")\n",
    "file_again = input(\"> \")\n",
    "\n",
    "txt_again = open(file_again)\n",
    "\n",
    "print(txt_again.read())"
   ]
  },
  {
   "cell_type": "markdown",
   "metadata": {},
   "source": [
    "<img src=https://i.ibb.co/YL7NX36/EX15.png>"
   ]
  },
  {
   "cell_type": "markdown",
   "metadata": {},
   "source": [
    "# Exercise 16:"
   ]
  },
  {
   "cell_type": "markdown",
   "metadata": {},
   "source": [
    "### Reading and Writing Files"
   ]
  },
  {
   "cell_type": "code",
   "execution_count": null,
   "metadata": {},
   "outputs": [],
   "source": [
    "from sys import argv\n",
    "\n",
    "script, filename = argv\n",
    "\n",
    "##COMMANDS YOU SHOULD KNOW\n",
    "#• close – Closes the file. Like File->Save.. in your editor.\n",
    "#• read – Reads the contents of the file. You can assign the result to a variable.\n",
    "#• readline – Reads just one line of a text file.\n",
    "#• truncate – Empties the file. Watch out if you care about the file.\n",
    "#• write('stuff') – Writes ”stuff” to the file.\n",
    "#• seek(0) – Move the read/write location to the beginning of the file.\n",
    "\n",
    "\n",
    "print(f\"We're going to erase {filename}.\")\n",
    "print(\"If you don't want that, hit CTRL-C (^C).\")\n",
    "print(\"If you do want that, hit RETURN.\")\n",
    "\n",
    "input(\"?\")\n",
    "\n",
    "print(\"Opening the file...\")\n",
    "target = open(filename, 'w')\n",
    "\n",
    "print(\"Truncating the file. Goodbye!\")\n",
    "target.truncate()\n",
    "\n",
    "print(\"Now I'm going to ask you for three lines.\")\n",
    "\n",
    "line1 = input(\"line 1: \")\n",
    "line2 = input(\"line 2: \")\n",
    "line3 = input(\"line 3: \")\n",
    "\n",
    "print(\"I'm going to write these to the file.\")\n",
    "\n",
    "target.write(line1)\n",
    "target.write(\"\\n\")\n",
    "target.write(line2)\n",
    "target.write(\"\\n\")\n",
    "target.write(line3)\n",
    "target.write(\"\\n\")\n",
    "\n",
    "print(\"And finally, we close it.\")\n",
    "target.close()"
   ]
  },
  {
   "cell_type": "markdown",
   "metadata": {},
   "source": [
    "<img src=https://i.ibb.co/3CxWQ0c/EX16.png>"
   ]
  },
  {
   "cell_type": "markdown",
   "metadata": {},
   "source": [
    "# Exercise 17:"
   ]
  },
  {
   "cell_type": "markdown",
   "metadata": {},
   "source": [
    "### More Files "
   ]
  },
  {
   "cell_type": "code",
   "execution_count": null,
   "metadata": {},
   "outputs": [],
   "source": [
    "from sys import argv\n",
    "from os.path import exists\n",
    "\n",
    "script, from_file, to_file = argv\n",
    "\n",
    "print(f\"Copying from {from_file} to {to_file}\")\n",
    "\n",
    "# we could do these two on one line, how?\n",
    "in_file = open(from_file)\n",
    "indata = in_file.read()\n",
    "\n",
    "print(f\"The input file is {len(indata)} bytes long\")\n",
    "\n",
    "print(f\"Does the output file exist? {exists(to_file)}\")\n",
    "print(\"Ready, hit RETURN to continue, CTRL-C to abort.\")\n",
    "input()\n",
    "\n",
    "out_file = open(to_file, 'w')\n",
    "out_file.write(indata)\n",
    "\n",
    "print(\"Alright, all done.\")\n",
    "\n",
    "out_file.close()\n",
    "in_file.close()"
   ]
  },
  {
   "cell_type": "markdown",
   "metadata": {},
   "source": [
    "<img src=https://i.ibb.co/xCTPJwR/EX17.png>"
   ]
  },
  {
   "cell_type": "markdown",
   "metadata": {},
   "source": [
    "# Exercise 18"
   ]
  },
  {
   "cell_type": "markdown",
   "metadata": {},
   "source": [
    "### Names, Variables, Code, Functions"
   ]
  },
  {
   "cell_type": "code",
   "execution_count": null,
   "metadata": {},
   "outputs": [],
   "source": [
    "# this one is like your scripts with argv\n",
    "def print_two(*args):\n",
    "    arg1, arg2 = args\n",
    "    print(f\"arg1: {arg1}, arg2: {arg2}\")\n",
    "\n",
    "# ok, that *args is actually pointless, we can just do this\n",
    " def print_two_again(arg1, arg2):\n",
    "    print(f\"arg1: {arg1}, arg2: {arg2}\")\n",
    "    \n",
    "# this just takes one argument\n",
    "def print_one(arg1):\n",
    "    print(f\"arg1: {arg1}\")\n",
    "    \n",
    "# this one takes no arguments\n",
    "def print_none():\n",
    "    print(\"I got nothin'.\")\n",
    "    \n",
    "    \n",
    "    print_two(\"Zed\",\"Shaw\")\n",
    "    print_two_again(\"Zed\",\"Shaw\")\n",
    "    print_one(\"First!\")\n",
    "    print_none()"
   ]
  },
  {
   "cell_type": "markdown",
   "metadata": {},
   "source": [
    "<img src=https://i.ibb.co/8BpxhSz/EX18.png>"
   ]
  },
  {
   "cell_type": "markdown",
   "metadata": {},
   "source": [
    "# Exercise 19:"
   ]
  },
  {
   "cell_type": "markdown",
   "metadata": {},
   "source": [
    "### Functions and Variables"
   ]
  },
  {
   "cell_type": "code",
   "execution_count": 1,
   "metadata": {},
   "outputs": [
    {
     "name": "stdout",
     "output_type": "stream",
     "text": [
      "We can just give the function numbers directly:\n",
      "You have 20 cheeses!\n",
      "You have 30 boxes of crackers!\n",
      "Man that's enough for a party!\n",
      "Get a blanket.\n",
      "\n",
      "OR, we can use variables from our script:\n",
      "You have 10 cheeses!\n",
      "You have 50 boxes of crackers!\n",
      "Man that's enough for a party!\n",
      "Get a blanket.\n",
      "\n",
      "We can even do math inside too:\n",
      "You have 30 cheeses!\n",
      "You have 11 boxes of crackers!\n",
      "Man that's enough for a party!\n",
      "Get a blanket.\n",
      "\n",
      "And we can combine the two, variables and math:\n",
      "You have 110 cheeses!\n",
      "You have 1050 boxes of crackers!\n",
      "Man that's enough for a party!\n",
      "Get a blanket.\n",
      "\n"
     ]
    }
   ],
   "source": [
    "def cheese_and_crackers(cheese_count, boxes_of_crackers):\n",
    "    print(f\"You have {cheese_count} cheeses!\")\n",
    "    print(f\"You have {boxes_of_crackers} boxes of crackers!\")\n",
    "    print(\"Man that's enough for a party!\")\n",
    "    print(\"Get a blanket.\\n\")\n",
    "    \n",
    "    \n",
    "print(\"We can just give the function numbers directly:\")\n",
    "cheese_and_crackers(20, 30)\n",
    "\n",
    "\n",
    "print(\"OR, we can use variables from our script:\")\n",
    "amount_of_cheese = 10\n",
    "amount_of_crackers = 50\n",
    "\n",
    "cheese_and_crackers(amount_of_cheese, amount_of_crackers)\n",
    "\n",
    "\n",
    "print(\"We can even do math inside too:\")\n",
    "cheese_and_crackers(10 + 20, 5 + 6)\n",
    "\n",
    "\n",
    "print(\"And we can combine the two, variables and math:\")\n",
    "cheese_and_crackers(amount_of_cheese + 100, amount_of_crackers + 1000)"
   ]
  },
  {
   "cell_type": "markdown",
   "metadata": {},
   "source": [
    "<img src=https://i.ibb.co/rdPbdVD/EX19.png>"
   ]
  },
  {
   "cell_type": "markdown",
   "metadata": {},
   "source": [
    "# Exercise 20: "
   ]
  },
  {
   "cell_type": "markdown",
   "metadata": {},
   "source": [
    "### Functions and Files"
   ]
  },
  {
   "cell_type": "code",
   "execution_count": null,
   "metadata": {},
   "outputs": [],
   "source": [
    "from sys import argv\n",
    "\n",
    "script, input_file = argv\n",
    "\n",
    "def print_all(f):\n",
    "    print(f.read())\n",
    "    \n",
    "def rewind(f):\n",
    "    f.seek(0)\n",
    "    \n",
    "def print_a_line(line_count, f):\n",
    "    print(line_count, f.readline())\n",
    "    \n",
    "current_file = open(input_file)\n",
    "\n",
    "print(\"First let's print the whole file:\\n\")\n",
    "\n",
    "print_all(current_file)\n",
    "\n",
    "print(\"Now let's rewind, kind of like a tape.\")\n",
    "\n",
    "rewind(current_file)\n",
    "\n",
    "print(\"Let's print three lines:\")\n",
    "\n",
    "current_line = 1\n",
    "print_a_line(current_line, current_file)\n",
    "\n",
    "current_line = current_line + 1\n",
    "print_a_line(current_line, current_file)\n",
    "\n",
    "current_line = current_line + 1\n",
    "print_a_line(current_line, current_file)"
   ]
  },
  {
   "cell_type": "markdown",
   "metadata": {},
   "source": [
    "<img src=https://i.ibb.co/5rHtnrP/EX20.png>"
   ]
  },
  {
   "cell_type": "markdown",
   "metadata": {},
   "source": [
    "# Exercise 21"
   ]
  },
  {
   "cell_type": "markdown",
   "metadata": {},
   "source": [
    "### Functions Can Return Something"
   ]
  },
  {
   "cell_type": "code",
   "execution_count": 5,
   "metadata": {},
   "outputs": [
    {
     "name": "stdout",
     "output_type": "stream",
     "text": [
      "Let's do some math with just functions!\n",
      "ADDING 30 + 5\n",
      "SUBTRACTING 78 - 4\n",
      "MULTIPLYING 90 * 2\n",
      "DIVIDING 100 / 2\n",
      "Age: 35, Height: 74, Weight: 180, IQ: 50.0\n",
      "Here is a puzzle.\n",
      "DIVIDING 50.0 / 2\n",
      "MULTIPLYING 180 * 25.0\n",
      "SUBTRACTING 74 - 4500.0\n",
      "ADDING 35 + -4426.0\n",
      "That becomes:  -4391.0 Can you do it by hand?\n"
     ]
    }
   ],
   "source": [
    "def add(a, b):\n",
    "    print(f\"ADDING {a} + {b}\")\n",
    "    return a + b\n",
    "\n",
    "def subtract(a, b):\n",
    "    print(f\"SUBTRACTING {a} - {b}\")\n",
    "    return a - b\n",
    "\n",
    "def multiply(a, b):\n",
    "    print(f\"MULTIPLYING {a} * {b}\")\n",
    "    return a * b\n",
    "\n",
    "def divide(a, b):\n",
    "    print(f\"DIVIDING {a} / {b}\")\n",
    "    return a / b\n",
    "\n",
    "\n",
    "print(\"Let's do some math with just functions!\")\n",
    "\n",
    "\n",
    "age = add(30, 5)\n",
    "height = subtract(78, 4)\n",
    "weight = multiply(90, 2)\n",
    "iq = divide(100, 2)\n",
    "\n",
    "print(f\"Age: {age}, Height: {height}, Weight: {weight}, IQ: {iq}\")\n",
    "\n",
    "# A puzzle for the extra credit, type it in anyway.\n",
    "print(\"Here is a puzzle.\")\n",
    "\n",
    "what = add(age, subtract(height, multiply(weight, divide(iq, 2))))\n",
    "\n",
    "print(\"That becomes: \", what, \"Can you do it by hand?\")"
   ]
  },
  {
   "cell_type": "markdown",
   "metadata": {},
   "source": [
    "<img src=https://i.ibb.co/XL0SMTL/EX21.png>"
   ]
  },
  {
   "cell_type": "markdown",
   "metadata": {},
   "source": [
    "# Homework #4 (Exercises 40-43)"
   ]
  },
  {
   "cell_type": "markdown",
   "metadata": {},
   "source": [
    "## Exercise 40"
   ]
  },
  {
   "cell_type": "code",
   "execution_count": 2,
   "metadata": {},
   "outputs": [
    {
     "name": "stdout",
     "output_type": "stream",
     "text": [
      "Happy birthday to you\n",
      "I don't want to get sued\n",
      "So I'll stop right there\n",
      "They rally around tha family\n",
      "With pockets full of shells\n"
     ]
    }
   ],
   "source": [
    "class Song(object):\n",
    "    \n",
    "    def __init__(self, lyrics):\n",
    "        self.lyrics = lyrics\n",
    "    \n",
    "    def sing_me_a_song(self):\n",
    "        for line in self.lyrics:\n",
    "            print(line)\n",
    "    \n",
    "happy_bday = Song([\"Happy birthday to you\",\n",
    "                       \"I don't want to get sued\",\n",
    "                       \"So I'll stop right there\"])\n",
    "    \n",
    "bulls_on_parade = Song([\"They rally around tha family\",\n",
    "                            \"With pockets full of shells\"])\n",
    "    \n",
    "happy_bday.sing_me_a_song()\n",
    "    \n",
    "bulls_on_parade.sing_me_a_song()"
   ]
  },
  {
   "cell_type": "markdown",
   "metadata": {},
   "source": [
    "## Exercise 41"
   ]
  },
  {
   "cell_type": "code",
   "execution_count": null,
   "metadata": {},
   "outputs": [],
   "source": [
    "import random\n",
    "from urllib.request import urlopen\n",
    "import sys\n",
    "\n",
    "WORD_URL = \"http://learncodethehardway.org/words.txt\"\n",
    "WORDS = []\n",
    "\n",
    "PHRASES = {\n",
    "    \"class %%%(%%%):\":\n",
    " \"Make a class named %%% that is-a %%%.\",\n",
    " \"class %%%(object):\\n\\tdef __init__(self, ***)\" :\n",
    " \"class %%% has-a __init__ that takes self and *** params.\",\n",
    " \"class %%%(object):\\n\\tdef ***(self, @@@)\":\n",
    " \"class %%% has-a function *** that takes self and @@@ params.\",\n",
    " \"*** = %%%()\":\n",
    " \"Set *** to an instance of class %%%.\",\n",
    " \"***.***(@@@)\":\n",
    " \"From *** get the *** function, call it with params self, @@@.\",\n",
    " \"***.*** = '***'\":\n",
    " \"From *** get the *** attribute and set it to '***'.\"\n",
    " }\n",
    "\n",
    " # do they want to drill phrases first\n",
    "if len(sys.argv) == 2 and sys.argv[1] == \"english\":\n",
    "        PHRASE_FIRST = True\n",
    "else:\n",
    "        PHRASE_FIRST = False\n",
    "\n",
    " # load up the words from the website\n",
    "for word in urlopen(WORD_URL).readlines():\n",
    "        WORDS.append(str(word.strip(), encoding=\"utf-8\"))\n",
    "\n",
    "\n",
    "def convert(snippet, phrase):\n",
    "        class_names = [w.capitalize() for w in\n",
    "                       random.sample(WORDS, snippet.count(\"%%%\"))]\n",
    "        other_names = random.sample(WORDS, snippet.count(\"***\"))\n",
    "        results = []\n",
    "        param_names = []\n",
    "\n",
    "        for i in range(0, snippet.count(\"@@@\")):\n",
    "            param_count = random.randint(1,3)\n",
    "            param_names.append(', '.join(\n",
    "        random.sample(WORDS, param_count)))\n",
    "\n",
    "        for sentence in snippet, phrase:\n",
    "            result = sentence[:]\n",
    "\n",
    "       # fake class names\n",
    "        for word in class_names:\n",
    "            result = result.replace(\"%%%\", word, 1)\n",
    "\n",
    " # fake other names\n",
    "            for word in other_names:\n",
    "                result = result.replace(\"***\", word, 1)\n",
    "\n",
    " # fake parameter lists\n",
    "            for word in param_names:\n",
    "                result = result.replace(\"@@@\", word, 1)\n",
    "\n",
    "            results.append(result)\n",
    "\n",
    "        return results\n",
    "\n",
    "\n",
    " # keep going until they hit CTRL-D\n",
    "try:\n",
    "    while True:\n",
    "        snippets = list(PHRASES.keys())\n",
    "        random.shuffle(snippets)\n",
    "\n",
    "        for snippet in snippets:\n",
    "            phrase = PHRASES[snippet]\n",
    "            question, answer = convert(snippet, phrase)\n",
    "            if PHRASE_FIRST:\n",
    "                question, answer = answer, question\n",
    "\n",
    "            print(question)\n",
    "            input(\"> \")\n",
    "            print(f\"ANSWER: {answer}\\n\\n\")\n",
    "except EOFError:\n",
    "    print(\"\\nBye\")"
   ]
  },
  {
   "cell_type": "code",
   "execution_count": null,
   "metadata": {},
   "outputs": [],
   "source": []
  },
  {
   "cell_type": "markdown",
   "metadata": {},
   "source": [
    "## Exercise 42"
   ]
  },
  {
   "cell_type": "code",
   "execution_count": null,
   "metadata": {},
   "outputs": [],
   "source": [
    "## Animal is-a object (yes, sort of confusing) look at the extra credit\n",
    "class Animal(object):\n",
    "    pass\n",
    "## ??\n",
    "class Dog(Animal):\n",
    "    def __init__(self, name):\n",
    "        ## ??\n",
    "        self.name = name\n",
    "        \n",
    "## ??\n",
    "class Cat(Animal):\n",
    "    def __init__(self, name):\n",
    "        ## ??\n",
    "        self.name = name\n",
    "        \n",
    "## ??\n",
    "class Person(object):\n",
    "    \n",
    "    def __init__(self, name):\n",
    "        ## ??\n",
    "        self.name = name\n",
    "        \n",
    "        ## Person has-a pet of some kind\n",
    "        self.pet = None\n",
    "        \n",
    "## ??\n",
    "class Employee(Person):\n",
    "    \n",
    "    def __init__(self, name, salary):\n",
    "        ## ?? hmm what is this strange magic?\n",
    "        super(Employee, self).__init__(name)\n",
    "        ## ??\n",
    "        self.salary = salary\n",
    "        \n",
    "## ??\n",
    "class Fish(object):\n",
    "    pass\n",
    "\n",
    "## ??\n",
    "class Salmon(Fish):\n",
    "    pass\n",
    "\n",
    "## ??\n",
    "class Halibut(Fish):\n",
    "    pass\n",
    "\n",
    "\n",
    "## rover is-a Dog\n",
    "rover = Dog(\"Rover\")\n",
    "\n",
    "## ??\n",
    "satan = Cat(\"Satan\")\n",
    "\n",
    "## ??\n",
    "mary = Person(\"Mary\")\n",
    "\n",
    "## ??\n",
    "mary.pet = satan\n",
    "\n",
    "## ??\n",
    "frank = Employee(\"Frank\", 120000)\n",
    "\n",
    "## ??\n",
    "frank.pet = rover\n",
    "\n",
    "## ??\n",
    "flipper = Fish()\n",
    "\n",
    "## ??\n",
    "crouse = Salmon()\n",
    "\n",
    "## ??\n",
    "harry = Halibut()"
   ]
  },
  {
   "cell_type": "code",
   "execution_count": null,
   "metadata": {},
   "outputs": [],
   "source": []
  },
  {
   "cell_type": "markdown",
   "metadata": {},
   "source": [
    "## Exercise 43:"
   ]
  },
  {
   "cell_type": "code",
   "execution_count": null,
   "metadata": {},
   "outputs": [],
   "source": [
    "class Map(object):\n",
    "    \n",
    "    scenes = {\n",
    "        'central_corridor': CentralCorridor(),\n",
    "        'laser_weapon_armory': LaserWeaponArmory(),\n",
    "        'the_bridge': TheBridge(),\n",
    "        'escape_pod': EscapePod(),\n",
    "        'death': Death(),\n",
    "        'finished': Finished(),\n",
    "    }\n",
    "    \n",
    "    def __init__(self, start_scene):\n",
    "        self.start_scene = start_scene\n",
    "        \n",
    "    def next_scene(self, scene_name):\n",
    "        val = Map.scenes.get(scene_name)\n",
    "        return val\n",
    "    \n",
    "    def opening_scene(self):\n",
    "        return self.next_scene(self.start_scene)"
   ]
  },
  {
   "cell_type": "markdown",
   "metadata": {},
   "source": []
  }
 ],
 "metadata": {
  "kernelspec": {
   "display_name": "Python 3",
   "language": "python",
   "name": "python3"
  },
  "language_info": {
   "codemirror_mode": {
    "name": "ipython",
    "version": 3
   },
   "file_extension": ".py",
   "mimetype": "text/x-python",
   "name": "python",
   "nbconvert_exporter": "python",
   "pygments_lexer": "ipython3",
   "version": "3.7.3"
  }
 },
 "nbformat": 4,
 "nbformat_minor": 2
}
