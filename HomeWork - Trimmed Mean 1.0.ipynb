{
 "cells": [
  {
   "cell_type": "markdown",
   "metadata": {},
   "source": [
    "# Activity No.2 - Trimmed Mean"
   ]
  },
  {
   "cell_type": "markdown",
   "metadata": {},
   "source": [
    "###### Names:"
   ]
  },
  {
   "cell_type": "markdown",
   "metadata": {},
   "source": [
    "- Fernando De La Cruz Hernandez\n",
    "- Oliver David Carrisales Nicolas"
   ]
  },
  {
   "cell_type": "markdown",
   "metadata": {},
   "source": [
    "###### Introduction:"
   ]
  },
  {
   "cell_type": "markdown",
   "metadata": {},
   "source": [
    "-TRIMMED MEAN"
   ]
  },
  {
   "cell_type": "markdown",
   "metadata": {},
   "source": [
    "A trimmed mean is computed by \"trimming away\" a certain percent of both the largest and the smallest set of values. For example, the 10% trimmed mean is found by eliminating the largest 10% and smallest 10% and computing the average of the ramaining values."
   ]
  },
  {
   "cell_type": "markdown",
   "metadata": {},
   "source": [
    "Example:"
   ]
  },
  {
   "cell_type": "markdown",
   "metadata": {},
   "source": [
    "<img src=https://images.slideplayer.com/26/8593779/slides/slide_29.jpg>"
   ]
  },
  {
   "cell_type": "markdown",
   "metadata": {},
   "source": [
    "###### Instructions:"
   ]
  },
  {
   "cell_type": "markdown",
   "metadata": {},
   "source": [
    "Develop a program that calculates trimmed mean. The user have to introduce the set of data and the percentage they want to use."
   ]
  },
  {
   "cell_type": "code",
   "execution_count": 3,
   "metadata": {},
   "outputs": [
    {
     "name": "stdout",
     "output_type": "stream",
     "text": [
      "- This program calculates the trimmed mean, you need to put the data or samples you want for this program to perform the operations.\n",
      "\n",
      "\n",
      "\t **************\n",
      "\t *TRIMMED MEAN*\n",
      "\t **************\n",
      "\n",
      "\n",
      "\n",
      "----- How Many Values You Want Introduce? 10\n",
      "----- How Much Percentage Will You Apply? 20\n",
      "\n",
      "\n",
      "\n",
      "- Introduce value 1: -6\n",
      "- Introduce value 2: 3\n",
      "- Introduce value 3: 3\n",
      "- Introduce value 4: 4\n",
      "- Introduce value 5: 4\n",
      "- Introduce value 6: 5\n",
      "- Introduce value 7: 5\n",
      "- Introduce value 8: 9\n",
      "- Introduce value 9: 12\n",
      "- Introduce value 10: 37\n",
      "\n",
      "\n",
      "\n",
      "\t***********************\n",
      "\t\t DATA\n",
      "\t***********************\n",
      "Sorted List:  [3, 3, 4, 4, 5, 5, 9, 12]\n",
      "Sum Of The New Samples  45\n",
      "New Sample Quantity:  8\n",
      "The operation to obtain the trimmed mean is: Add the new samples over the new quantity of samples. And this will be our trimmed mean.\n",
      "\n",
      "\n",
      "\n",
      "\t*************************\n",
      "\t RESULT OF TRIMMED MEAN\n",
      "\t*************************\n",
      "45 / 8 =  Trimmed Mean\n",
      "\u001b[;36mTrimmed mean is 5.625\n"
     ]
    }
   ],
   "source": [
    "#Program Purpose.\n",
    "print(\"- This program calculates the trimmed mean, you need to put the data or samples you want for this program to perform the operations.\")\n",
    "\n",
    "#Name of the Program\n",
    "print(\"\\n\\n\\t **************\")\n",
    "print(\"\\t *TRIMMED MEAN*\")\n",
    "print(\"\\t **************\")\n",
    "print(\"\\n\\n\")\n",
    "\n",
    "#VARIABLES\n",
    "#Exists Double M for others equations\n",
    "T=0\n",
    "R=0\n",
    "I=0\n",
    "M=0\n",
    "M=0\n",
    "E=0\n",
    "MEAN=[]\n",
    "\n",
    "#Questions to get information\n",
    "T=int(input(\"----- How Many Values You Want Introduce? \"))\n",
    "E=int(input(\"----- How Much Percentage Will You Apply? \"))\n",
    "if E<0 or E<=20:\n",
    "    print(\"\\n\\n\")\n",
    "    E=int((T/100)*T)\n",
    "    countdx=int(E*2)\n",
    "    for f in range(0,T):\n",
    "        #print(\"\\n\")\n",
    "        I=int(input(f\"- Introduce value {f + 1}: \"))\n",
    "        MEAN.append(I)\n",
    "    OrderN=sorted(MEAN[E:-E])\n",
    "    SPN=sum(OrderN)/(T-countdx)\n",
    "    print(\"\\n\\n\")\n",
    "    \n",
    "    #DATA\n",
    "    print(\"\\t***********************\")\n",
    "    print(\"\\t\\t DATA\")\n",
    "    print(\"\\t***********************\")\n",
    "    print(\"Sorted List: \",OrderN)\n",
    "    print(\"Sum Of The New Samples \",sum(OrderN))\n",
    "    print(\"New Sample Quantity: \",(T-1)-E)\n",
    "    print(\"The operation to obtain the trimmed mean is: Add the new samples over the new quantity of samples. And this will be our trimmed mean.\")\n",
    "    print(\"\\n\\n\")\n",
    "    \n",
    "    #RESULTS\n",
    "    print(\"\\t*************************\")\n",
    "    print(\"\\t RESULT OF TRIMMED MEAN\")\n",
    "    print(\"\\t*************************\")\n",
    "    print(sum(OrderN),\"/\",(T-1)-E,\"= \",\"Trimmed Mean\")\n",
    "    print(\"\\033[;36m\"+\"Trimmed mean is\",SPN)"
   ]
  },
  {
   "cell_type": "code",
   "execution_count": null,
   "metadata": {},
   "outputs": [],
   "source": []
  },
  {
   "cell_type": "code",
   "execution_count": null,
   "metadata": {},
   "outputs": [],
   "source": []
  }
 ],
 "metadata": {
  "kernelspec": {
   "display_name": "Python 3",
   "language": "python",
   "name": "python3"
  },
  "language_info": {
   "codemirror_mode": {
    "name": "ipython",
    "version": 3
   },
   "file_extension": ".py",
   "mimetype": "text/x-python",
   "name": "python",
   "nbconvert_exporter": "python",
   "pygments_lexer": "ipython3",
   "version": "3.7.3"
  }
 },
 "nbformat": 4,
 "nbformat_minor": 2
}
