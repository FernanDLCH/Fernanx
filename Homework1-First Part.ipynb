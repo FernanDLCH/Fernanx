{
 "cells": [
  {
   "cell_type": "markdown",
   "metadata": {},
   "source": [
    "# INTRODUCTION TO PYTHON\n",
    "## How To Print Text In Python\n"
   ]
  },
  {
   "cell_type": "markdown",
   "metadata": {},
   "source": [
    "The command or word reserved print allows you to make a screen impression inside what you have written on this"
   ]
  },
  {
   "cell_type": "code",
   "execution_count": 12,
   "metadata": {},
   "outputs": [
    {
     "name": "stdout",
     "output_type": "stream",
     "text": [
      "Hello MEC3D\n",
      "This is an on-screen text printing test\n"
     ]
    }
   ],
   "source": [
    "print(\"Hello MEC3D\")\n",
    "print(\"This is an on-screen text printing test\")"
   ]
  },
  {
   "cell_type": "markdown",
   "metadata": {},
   "source": [
    "## Comments And Functions\n",
    "\n"
   ]
  },
  {
   "cell_type": "markdown",
   "metadata": {},
   "source": [
    "Python and any programming environment, the comments will not be read by the compiler, they will only be ignored.\n",
    "Functions: You can add comments to help, either to remember something from that line, etc. If we need a line of code to be omitted, just put a comment at the beginning"
   ]
  },
  {
   "cell_type": "code",
   "execution_count": 24,
   "metadata": {},
   "outputs": [
    {
     "name": "stdout",
     "output_type": "stream",
     "text": [
      "Enter the First Value: \n",
      "Enter the Second Value: \n"
     ]
    }
   ],
   "source": [
    "# To place a comment we just have to put (#) \n",
    "\n",
    "int = 5 #This value is of the integer type and will be omitted by the compiler.\n",
    "float = 3.2 #This value is floating type\n",
    "\n",
    "print(\"Enter the First Value: \")\n",
    "\n",
    "print(\"Enter the Second Value: \")\n",
    "\n"
   ]
  },
  {
   "cell_type": "markdown",
   "metadata": {},
   "source": [
    "## Numbers, Symbols and Mathematical Operations"
   ]
  },
  {
   "cell_type": "markdown",
   "metadata": {},
   "source": [
    "Each environment or programming language has a way of doing mathematical operations, in this way we will solve a mathematical problem with the help of the operators, these are:\n",
    "    (+) Plus\n",
    "    (-) Minus\n",
    "    (/) Slash - To divide\n",
    "    (*) Asterisk - To multiply\n",
    "    (%) Percent\n",
    "    (<) Less Than\n",
    "    (>) Greater Than\n",
    "    (<=) Lower Than Equal\n",
    "    (=>) Less Than Equal"
   ]
  },
  {
   "cell_type": "code",
   "execution_count": 25,
   "metadata": {},
   "outputs": [
    {
     "name": "stdout",
     "output_type": "stream",
     "text": [
      "Instructions: \n",
      " Solve mathematical problem by applying the hierarchy of operations.\n",
      " Problem No1: (40) / (-10)*(2)  \n",
      " Correct result:  -8.0\n"
     ]
    }
   ],
   "source": [
    "print (\"Instructions: \")\n",
    "print (\" Solve mathematical problem by applying the hierarchy of operations.\")\n",
    "print (\" Problem No1: (40) / (-10)*(2)  \") #Result is -8\n",
    "print (\" Correct result: \",(40) / (-10)*(2) ) "
   ]
  },
  {
   "cell_type": "code",
   "execution_count": null,
   "metadata": {},
   "outputs": [],
   "source": [
    "## Variables And Names"
   ]
  },
  {
   "cell_type": "markdown",
   "metadata": {},
   "source": [
    "A variable in programming can be any name you want, in addition to this you can place a value.\n",
    "Its function is to store a value to be occupied later in a line of code."
   ]
  },
  {
   "cell_type": "code",
   "execution_count": 33,
   "metadata": {},
   "outputs": [
    {
     "name": "stdout",
     "output_type": "stream",
     "text": [
      "How many neurons does the human being have?\n",
      "It is estimated that the brain of the human being has a number of about 86 one billion neurons.\n",
      "Would you like to know how many planets are in the Solar System?\n",
      "We have 8 Planetas in the solar system\n"
     ]
    }
   ],
   "source": [
    "neurons = 86\n",
    "bones = 206\n",
    "Planets_Solar_System= 8\n",
    "Mercury = 0\n",
    "Venus = 0\n",
    "Earth = 1\n",
    "Mars = 2\n",
    "Jupiter = 67\n",
    "Saturn =62\n",
    "Uranus = 27\n",
    "Neptune = 14\n",
    "\n",
    "print(\"How many neurons does the human being have?\")\n",
    "print(\"It is estimated that the brain of the human being has a number of about\", neurons,\"one billion neurons.\")\n",
    "\n",
    "print(\"Would you like to know how many planets are in the Solar System?\")\n",
    "print(\"We have\", Planets_Solar_System, \"Planetas in the solar system\")\n",
    "\n"
   ]
  },
  {
   "cell_type": "markdown",
   "metadata": {},
   "source": [
    "## Second Part Of Variables And Printing"
   ]
  },
  {
   "cell_type": "markdown",
   "metadata": {},
   "source": [
    "Now in this section it is similar to the previous part only this time we will use format string."
   ]
  },
  {
   "cell_type": "code",
   "execution_count": 36,
   "metadata": {},
   "outputs": [
    {
     "name": "stdout",
     "output_type": "stream",
     "text": [
      "School Information\n",
      "Name: Fernando De La Cruz Hernandez\n",
      "Age: 18\n",
      "Enrollment: 491811207\n",
      "Quarter: 3\n",
      "Career: Mechatronics\n"
     ]
    }
   ],
   "source": [
    "name = 'Fernando De La Cruz Hernandez'\n",
    "age = 18\n",
    "enrollment = 491811207\n",
    "quarter = 3\n",
    "career = 'Mechatronics'\n",
    "\n",
    "print(\"School Information\")\n",
    "\n",
    "print(f\"Name: {name}\")\n",
    "print(f\"Age: {age}\")\n",
    "print(f\"Enrollment: {enrollment}\")\n",
    "print(f\"Quarter: {quarter}\")\n",
    "print(f\"Career: {career}\")"
   ]
  },
  {
   "cell_type": "code",
   "execution_count": null,
   "metadata": {},
   "outputs": [],
   "source": []
  }
 ],
 "metadata": {
  "kernelspec": {
   "display_name": "Python 3",
   "language": "python",
   "name": "python3"
  },
  "language_info": {
   "codemirror_mode": {
    "name": "ipython",
    "version": 3
   },
   "file_extension": ".py",
   "mimetype": "text/x-python",
   "name": "python",
   "nbconvert_exporter": "python",
   "pygments_lexer": "ipython3",
   "version": "3.7.3"
  }
 },
 "nbformat": 4,
 "nbformat_minor": 2
}
